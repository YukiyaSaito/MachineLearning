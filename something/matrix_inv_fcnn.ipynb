{
 "cells": [
  {
   "cell_type": "code",
   "execution_count": 2,
   "metadata": {},
   "outputs": [],
   "source": [
    "import numpy as np\n",
    "from numpy import linalg as la\n",
    "np.random.seed(7)\n",
    "\n",
    "mat_array = 1*np.random.random_sample((1,3,3))\n",
    "\n",
    "for i in range(9999):\n",
    "    tmp_mat = 1*np.random.random_sample((1,3,3))\n",
    "    if la.matrix_rank(tmp_mat)==3:\n",
    "        mat_array = np.append(mat_array,tmp_mat,axis=0)\n",
    "        #print('error')\n",
    "    else:\n",
    "        continue\n",
    "\n",
    "#A = np.matrix([[ele,2,3],[4,5,6],[7,8,9]])\n",
    "#la.matrix_rank(mat_array[0,:,:])\n",
    "mat_inv_array=la.inv(mat_array)"
   ]
  },
  {
   "cell_type": "code",
   "execution_count": 3,
   "metadata": {},
   "outputs": [
    {
     "name": "stderr",
     "output_type": "stream",
     "text": [
      "Using TensorFlow backend.\n"
     ]
    },
    {
     "name": "stdout",
     "output_type": "stream",
     "text": [
      "WARNING:tensorflow:From /Applications/python3_6/lib/python3.7/site-packages/tensorflow/python/framework/op_def_library.py:263: colocate_with (from tensorflow.python.framework.ops) is deprecated and will be removed in a future version.\n",
      "Instructions for updating:\n",
      "Colocations handled automatically by placer.\n",
      "WARNING:tensorflow:From /Applications/python3_6/lib/python3.7/site-packages/tensorflow/python/ops/math_ops.py:3066: to_int32 (from tensorflow.python.ops.math_ops) is deprecated and will be removed in a future version.\n",
      "Instructions for updating:\n",
      "Use tf.cast instead.\n",
      "Epoch 1/100\n",
      "10000/10000 [==============================] - 1s 125us/step - loss: 0.8895 - acc: 0.4443\n",
      "Epoch 2/100\n",
      "10000/10000 [==============================] - 1s 117us/step - loss: 0.8679 - acc: 0.4581\n",
      "Epoch 3/100\n",
      "10000/10000 [==============================] - 1s 112us/step - loss: 0.8658 - acc: 0.4569\n",
      "Epoch 4/100\n",
      "10000/10000 [==============================] - 1s 110us/step - loss: 0.8652 - acc: 0.4594\n",
      "Epoch 5/100\n",
      "10000/10000 [==============================] - 3s 255us/step - loss: 0.8647 - acc: 0.4571\n",
      "Epoch 6/100\n",
      "10000/10000 [==============================] - 2s 176us/step - loss: 0.8645 - acc: 0.4589\n",
      "Epoch 7/100\n",
      "10000/10000 [==============================] - 1s 130us/step - loss: 0.8638 - acc: 0.4588\n",
      "Epoch 8/100\n",
      "10000/10000 [==============================] - 1s 146us/step - loss: 0.8637 - acc: 0.4590 0s - loss: 0.8714 - a\n",
      "Epoch 9/100\n",
      "10000/10000 [==============================] - 1s 119us/step - loss: 0.8636 - acc: 0.4613\n",
      "Epoch 10/100\n",
      "10000/10000 [==============================] - 1s 126us/step - loss: 0.8634 - acc: 0.4596\n",
      "Epoch 11/100\n",
      "10000/10000 [==============================] - 1s 117us/step - loss: 0.8634 - acc: 0.4582 2s - loss:\n",
      "Epoch 12/100\n",
      "10000/10000 [==============================] - 1s 98us/step - loss: 0.8632 - acc: 0.4585\n",
      "Epoch 13/100\n",
      "10000/10000 [==============================] - 2s 152us/step - loss: 0.8629 - acc: 0.4588\n",
      "Epoch 14/100\n",
      "10000/10000 [==============================] - 1s 108us/step - loss: 0.8630 - acc: 0.4581\n",
      "Epoch 15/100\n",
      "10000/10000 [==============================] - 1s 137us/step - loss: 0.8628 - acc: 0.4590\n",
      "Epoch 16/100\n",
      "10000/10000 [==============================] - 1s 142us/step - loss: 0.8629 - acc: 0.4599\n",
      "Epoch 17/100\n",
      "10000/10000 [==============================] - 1s 113us/step - loss: 0.8627 - acc: 0.4594\n",
      "Epoch 18/100\n",
      "10000/10000 [==============================] - 1s 109us/step - loss: 0.8626 - acc: 0.4590\n",
      "Epoch 19/100\n",
      "10000/10000 [==============================] - 1s 114us/step - loss: 0.8626 - acc: 0.4571\n",
      "Epoch 20/100\n",
      "10000/10000 [==============================] - 1s 110us/step - loss: 0.8625 - acc: 0.4590\n",
      "Epoch 21/100\n",
      "10000/10000 [==============================] - 1s 110us/step - loss: 0.8625 - acc: 0.4587\n",
      "Epoch 22/100\n",
      "10000/10000 [==============================] - 1s 113us/step - loss: 0.8625 - acc: 0.4595\n",
      "Epoch 23/100\n",
      "10000/10000 [==============================] - 1s 123us/step - loss: 0.8624 - acc: 0.4584\n",
      "Epoch 24/100\n",
      "10000/10000 [==============================] - 1s 138us/step - loss: 0.8624 - acc: 0.4579\n",
      "Epoch 25/100\n",
      "10000/10000 [==============================] - 1s 146us/step - loss: 0.8621 - acc: 0.4578\n",
      "Epoch 26/100\n",
      "10000/10000 [==============================] - 1s 130us/step - loss: 0.8623 - acc: 0.4590\n",
      "Epoch 27/100\n",
      "10000/10000 [==============================] - 1s 124us/step - loss: 0.8622 - acc: 0.4589\n",
      "Epoch 28/100\n",
      "10000/10000 [==============================] - 1s 133us/step - loss: 0.8623 - acc: 0.4593\n",
      "Epoch 29/100\n",
      "10000/10000 [==============================] - 2s 177us/step - loss: 0.8622 - acc: 0.4588\n",
      "Epoch 30/100\n",
      "10000/10000 [==============================] - 1s 87us/step - loss: 0.8620 - acc: 0.4580\n",
      "Epoch 31/100\n",
      "10000/10000 [==============================] - 1s 79us/step - loss: 0.8619 - acc: 0.4584\n",
      "Epoch 32/100\n",
      "10000/10000 [==============================] - 1s 69us/step - loss: 0.8620 - acc: 0.4577\n",
      "Epoch 33/100\n",
      "10000/10000 [==============================] - 1s 96us/step - loss: 0.8619 - acc: 0.4584\n",
      "Epoch 34/100\n",
      "10000/10000 [==============================] - 2s 165us/step - loss: 0.8619 - acc: 0.4590 0s - loss: 0.8580 - ac\n",
      "Epoch 35/100\n",
      "10000/10000 [==============================] - 1s 131us/step - loss: 0.8619 - acc: 0.4593\n",
      "Epoch 36/100\n",
      "10000/10000 [==============================] - 1s 133us/step - loss: 0.8617 - acc: 0.4579\n",
      "Epoch 37/100\n",
      "10000/10000 [==============================] - 1s 129us/step - loss: 0.8615 - acc: 0.4584\n",
      "Epoch 38/100\n",
      "10000/10000 [==============================] - 1s 138us/step - loss: 0.8618 - acc: 0.4575\n",
      "Epoch 39/100\n",
      "10000/10000 [==============================] - 1s 124us/step - loss: 0.8617 - acc: 0.4579\n",
      "Epoch 40/100\n",
      "10000/10000 [==============================] - 1s 128us/step - loss: 0.8615 - acc: 0.4574\n",
      "Epoch 41/100\n",
      "10000/10000 [==============================] - 1s 148us/step - loss: 0.8616 - acc: 0.4571\n",
      "Epoch 42/100\n",
      "10000/10000 [==============================] - 2s 157us/step - loss: 0.8617 - acc: 0.4581\n",
      "Epoch 43/100\n",
      "10000/10000 [==============================] - 2s 232us/step - loss: 0.8616 - acc: 0.4578 0s - loss: 0.8673 - \n",
      "Epoch 44/100\n",
      "10000/10000 [==============================] - 1s 115us/step - loss: 0.8615 - acc: 0.4578\n",
      "Epoch 45/100\n",
      "10000/10000 [==============================] - 1s 128us/step - loss: 0.8614 - acc: 0.4583\n",
      "Epoch 46/100\n",
      "10000/10000 [==============================] - 3s 279us/step - loss: 0.8615 - acc: 0.4569\n",
      "Epoch 47/100\n",
      "10000/10000 [==============================] - 2s 178us/step - loss: 0.8614 - acc: 0.4586\n",
      "Epoch 48/100\n",
      "10000/10000 [==============================] - 2s 178us/step - loss: 0.8616 - acc: 0.4575\n",
      "Epoch 49/100\n",
      "10000/10000 [==============================] - 2s 190us/step - loss: 0.8614 - acc: 0.4580\n",
      "Epoch 50/100\n",
      "10000/10000 [==============================] - 2s 194us/step - loss: 0.8615 - acc: 0.4584\n",
      "Epoch 51/100\n",
      "10000/10000 [==============================] - 1s 87us/step - loss: 0.8613 - acc: 0.4593\n",
      "Epoch 52/100\n",
      "10000/10000 [==============================] - 1s 76us/step - loss: 0.8614 - acc: 0.4589\n",
      "Epoch 53/100\n",
      "10000/10000 [==============================] - 1s 85us/step - loss: 0.8611 - acc: 0.4582: 2s - loss: 0.86\n",
      "Epoch 54/100\n",
      "10000/10000 [==============================] - 1s 82us/step - loss: 0.8612 - acc: 0.4601\n",
      "Epoch 55/100\n",
      "10000/10000 [==============================] - 1s 81us/step - loss: 0.8614 - acc: 0.4582\n",
      "Epoch 56/100\n",
      "10000/10000 [==============================] - 1s 80us/step - loss: 0.8612 - acc: 0.4578\n",
      "Epoch 57/100\n",
      "10000/10000 [==============================] - 1s 94us/step - loss: 0.8612 - acc: 0.4582\n",
      "Epoch 58/100\n",
      "10000/10000 [==============================] - 1s 80us/step - loss: 0.8614 - acc: 0.4586\n",
      "Epoch 59/100\n",
      "10000/10000 [==============================] - 1s 140us/step - loss: 0.8612 - acc: 0.4576\n",
      "Epoch 60/100\n",
      "10000/10000 [==============================] - 1s 109us/step - loss: 0.8613 - acc: 0.4576\n",
      "Epoch 61/100\n",
      "10000/10000 [==============================] - 1s 93us/step - loss: 0.8611 - acc: 0.4575\n",
      "Epoch 62/100\n",
      "10000/10000 [==============================] - 1s 95us/step - loss: 0.8611 - acc: 0.4590\n",
      "Epoch 63/100\n",
      "10000/10000 [==============================] - 1s 93us/step - loss: 0.8612 - acc: 0.4586\n",
      "Epoch 64/100\n",
      "10000/10000 [==============================] - 1s 104us/step - loss: 0.8611 - acc: 0.4572\n",
      "Epoch 65/100\n",
      "10000/10000 [==============================] - 1s 95us/step - loss: 0.8611 - acc: 0.4584\n",
      "Epoch 66/100\n",
      "10000/10000 [==============================] - 1s 93us/step - loss: 0.8611 - acc: 0.4579\n",
      "Epoch 67/100\n",
      "10000/10000 [==============================] - 1s 102us/step - loss: 0.8611 - acc: 0.4585\n",
      "Epoch 68/100\n",
      "10000/10000 [==============================] - 1s 92us/step - loss: 0.8610 - acc: 0.4591\n",
      "Epoch 69/100\n",
      "10000/10000 [==============================] - 1s 93us/step - loss: 0.8611 - acc: 0.4589\n",
      "Epoch 70/100\n",
      "10000/10000 [==============================] - 1s 99us/step - loss: 0.8610 - acc: 0.4588\n",
      "Epoch 71/100\n",
      "10000/10000 [==============================] - 1s 97us/step - loss: 0.8611 - acc: 0.4576\n",
      "Epoch 72/100\n",
      "10000/10000 [==============================] - 1s 102us/step - loss: 0.8611 - acc: 0.4579\n",
      "Epoch 73/100\n",
      "10000/10000 [==============================] - 1s 103us/step - loss: 0.8608 - acc: 0.4595\n",
      "Epoch 74/100\n"
     ]
    },
    {
     "name": "stdout",
     "output_type": "stream",
     "text": [
      "10000/10000 [==============================] - 1s 141us/step - loss: 0.8610 - acc: 0.4581\n",
      "Epoch 75/100\n",
      "10000/10000 [==============================] - 2s 203us/step - loss: 0.8611 - acc: 0.4583\n",
      "Epoch 76/100\n",
      "10000/10000 [==============================] - 3s 310us/step - loss: 0.8608 - acc: 0.4586\n",
      "Epoch 77/100\n",
      "10000/10000 [==============================] - 1s 61us/step - loss: 0.8607 - acc: 0.4585\n",
      "Epoch 78/100\n",
      "10000/10000 [==============================] - 2s 172us/step - loss: 0.8611 - acc: 0.4585\n",
      "Epoch 79/100\n",
      "10000/10000 [==============================] - 1s 113us/step - loss: 0.8610 - acc: 0.4576\n",
      "Epoch 80/100\n",
      "10000/10000 [==============================] - 1s 102us/step - loss: 0.8608 - acc: 0.4579\n",
      "Epoch 81/100\n",
      "10000/10000 [==============================] - 1s 52us/step - loss: 0.8608 - acc: 0.4593\n",
      "Epoch 82/100\n",
      "10000/10000 [==============================] - 1s 52us/step - loss: 0.8609 - acc: 0.4601\n",
      "Epoch 83/100\n",
      "10000/10000 [==============================] - 0s 49us/step - loss: 0.8611 - acc: 0.4584\n",
      "Epoch 84/100\n",
      "10000/10000 [==============================] - 0s 50us/step - loss: 0.8609 - acc: 0.4575\n",
      "Epoch 85/100\n",
      "10000/10000 [==============================] - 1s 70us/step - loss: 0.8609 - acc: 0.4581\n",
      "Epoch 86/100\n",
      "10000/10000 [==============================] - 1s 67us/step - loss: 0.8608 - acc: 0.4589\n",
      "Epoch 87/100\n",
      "10000/10000 [==============================] - 0s 47us/step - loss: 0.8609 - acc: 0.4583\n",
      "Epoch 88/100\n",
      "10000/10000 [==============================] - 1s 55us/step - loss: 0.8609 - acc: 0.4600\n",
      "Epoch 89/100\n",
      "10000/10000 [==============================] - 1s 50us/step - loss: 0.8609 - acc: 0.4578\n",
      "Epoch 90/100\n",
      "10000/10000 [==============================] - 1s 63us/step - loss: 0.8608 - acc: 0.4586\n",
      "Epoch 91/100\n",
      "10000/10000 [==============================] - 1s 56us/step - loss: 0.8608 - acc: 0.4594\n",
      "Epoch 92/100\n",
      "10000/10000 [==============================] - 1s 59us/step - loss: 0.8608 - acc: 0.4586\n",
      "Epoch 93/100\n",
      "10000/10000 [==============================] - 1s 55us/step - loss: 0.8607 - acc: 0.4572\n",
      "Epoch 94/100\n",
      "10000/10000 [==============================] - 1s 53us/step - loss: 0.8608 - acc: 0.4585\n",
      "Epoch 95/100\n",
      "10000/10000 [==============================] - 0s 46us/step - loss: 0.8606 - acc: 0.4580\n",
      "Epoch 96/100\n",
      "10000/10000 [==============================] - 1s 58us/step - loss: 0.8608 - acc: 0.4578\n",
      "Epoch 97/100\n",
      "10000/10000 [==============================] - 1s 64us/step - loss: 0.8607 - acc: 0.4584\n",
      "Epoch 98/100\n",
      "10000/10000 [==============================] - 1s 52us/step - loss: 0.8606 - acc: 0.4581\n",
      "Epoch 99/100\n",
      "10000/10000 [==============================] - 0s 46us/step - loss: 0.8607 - acc: 0.4586\n",
      "Epoch 100/100\n",
      "10000/10000 [==============================] - 0s 48us/step - loss: 0.8606 - acc: 0.4595\n"
     ]
    },
    {
     "data": {
      "text/plain": [
       "<keras.callbacks.History at 0x1316fc550>"
      ]
     },
     "execution_count": 3,
     "metadata": {},
     "output_type": "execute_result"
    }
   ],
   "source": [
    "from keras.models import Sequential\n",
    "from keras.layers import Dense, Activation\n",
    "\n",
    "model = Sequential()\n",
    "model.add(Dense(32, input_shape=(3,3),activation='relu'))\n",
    "model.add(Dense(16, activation='tanh'))\n",
    "model.add(Dense(3, activation='linear'))\n",
    "\n",
    "model.compile(optimizer='adadelta',\n",
    "             loss='mean_squared_logarithmic_error',\n",
    "             metrics=['accuracy'])\n",
    "\n",
    "X = np.copy(mat_array)\n",
    "Y = np.copy(mat_inv_array)\n",
    "\n",
    "model.fit(X, Y, epochs=100)"
   ]
  },
  {
   "cell_type": "code",
   "execution_count": 4,
   "metadata": {},
   "outputs": [
    {
     "name": "stdout",
     "output_type": "stream",
     "text": [
      "[[[ 0.00676518 -0.05567394  0.05415501]\n",
      "  [ 0.00809765  0.03670199 -0.03932326]\n",
      "  [-0.00611455  0.00426117  0.01436597]]]\n",
      "[[[ 0.21826738  0.7343291   1.3147569 ]\n",
      "  [-0.51918375 -2.4664042  -0.9610343 ]\n",
      "  [ 0.00571376 -1.3281542  -0.37208453]]]\n"
     ]
    }
   ],
   "source": [
    "test = 100*np.random.random_sample((1,3,3))\n",
    "pred = model.predict(test)\n",
    "print(la.inv(test))\n",
    "print(pred)"
   ]
  },
  {
   "cell_type": "code",
   "execution_count": 6,
   "metadata": {},
   "outputs": [
    {
     "data": {
      "text/plain": [
       "(10000, 3, 3)"
      ]
     },
     "execution_count": 6,
     "metadata": {},
     "output_type": "execute_result"
    }
   ],
   "source": [
    "X.shape\n",
    "Y.shape"
   ]
  },
  {
   "cell_type": "code",
   "execution_count": 7,
   "metadata": {},
   "outputs": [
    {
     "data": {
      "text/plain": [
       "(10000, 3, 3)"
      ]
     },
     "execution_count": 7,
     "metadata": {},
     "output_type": "execute_result"
    }
   ],
   "source": [
    "Y.shape"
   ]
  },
  {
   "cell_type": "code",
   "execution_count": null,
   "metadata": {},
   "outputs": [],
   "source": []
  }
 ],
 "metadata": {
  "kernelspec": {
   "display_name": "Python 3",
   "language": "python",
   "name": "python3"
  },
  "language_info": {
   "codemirror_mode": {
    "name": "ipython",
    "version": 3
   },
   "file_extension": ".py",
   "mimetype": "text/x-python",
   "name": "python",
   "nbconvert_exporter": "python",
   "pygments_lexer": "ipython3",
   "version": "3.7.3"
  }
 },
 "nbformat": 4,
 "nbformat_minor": 2
}
